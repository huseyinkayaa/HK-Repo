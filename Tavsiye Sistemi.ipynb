{
 "cells": [
  {
   "cell_type": "code",
   "execution_count": null,
   "metadata": {},
   "outputs": [],
   "source": [
    "import math"
   ]
  },
  {
   "cell_type": "code",
   "execution_count": 1,
   "metadata": {},
   "outputs": [],
   "source": [
    "ornek_veri={\n",
    "    'Sibel Kendi':{\n",
    "        'westworld': 4.40,\n",
    "        'lost': 4.0,\n",
    "        'supernatural':3.30,\n",
    "        'the 100': 3.50},\n",
    "    \n",
    "    'Berk Aykut':{\n",
    "        'westworld': 3.50,\n",
    "        'lost': 2.00,\n",
    "        'supernatural' :4.00,\n",
    "        'spartacus': 4.20},\n",
    "    \n",
    "    'Cem Derin':{\n",
    "        'westworld':4.10,\n",
    "        'lost': 5.0,\n",
    "        'supernatural': 5.0},\n",
    "    \n",
    "    'Bayan Başeğmez':{\n",
    "        'supernatural':4.20,\n",
    "        'lost': 3.20,\n",
    "        'walking dead': 4.10,\n",
    "        'ghost whisperer': 5.00,\n",
    "        'the 100': 3.10\n",
    "    },\n",
    "}"
   ]
  },
  {
   "cell_type": "code",
   "execution_count": 4,
   "metadata": {},
   "outputs": [
    {
     "ename": "NameError",
     "evalue": "name 'degerlendirme_skorlari' is not defined",
     "output_type": "error",
     "traceback": [
      "\u001b[1;31m---------------------------------------------------------------------------\u001b[0m",
      "\u001b[1;31mNameError\u001b[0m                                 Traceback (most recent call last)",
      "\u001b[1;32mcell_name\u001b[0m in \u001b[0;36masync-def-wrapper\u001b[1;34m()\u001b[0m\n",
      "\u001b[1;31mNameError\u001b[0m: name 'degerlendirme_skorlari' is not defined"
     ]
    }
   ],
   "source": [
    "def OklidBenzerligi(kisi1,kisi2):\n",
    "    ortak_oylanan_filmler=[veri for veri in ornek_veri[kisi1]\n",
    "                           if veri in ornek_veri[kisi2]]\n",
    "\n",
    "    oylananlar=[(ornek_veri[kisi1] [kisi2], ornek_veri[kisi2] [kisi1])\n",
    "           for veri in ortak_oylanan_filmler]\n",
    "    uzaklik = [pow(oylanan[0]- oylanan[1],2)\n",
    "          for oylanan in oylananlar]\n",
    "    return 1/(1+sum(uzaklik))\n",
    "\n",
    "\n",
    "def TavsiyeEt(kisi, benzer_sayisi):\n",
    "    degerlendirme_skorlari = [(OklidBenzerligi(kisi, diger),diger)\n",
    "                           for diger in ornek_veri\n",
    "                               if diger !=kisi]\n",
    "    degerlendirme_skorlari.sort()\n",
    "    degerlendirme_skorlari.reverse()\n",
    "    degerlendirme_skorlari=degerlendirme_skorlari[0:\n",
    "                                                 benzer_sayisi]\n",
    "\n",
    "for benzerlik, diger in degerlendirme_skorlari:\n",
    "    secilmis=ornek_veri[diger]\n",
    "    for veri in secilmis:\n",
    "        if veri not in ornek_veri[kisi]:\n",
    "            agirlik= benzerlik * secilmis[veri]\n",
    "            \n",
    "            if veri in tavsiyeler:\n",
    "                s, agirliklar = tavsiyeler[veri]\n",
    "                tavsiyeler[veri]=(s+benzerlik, agirliklar+[agirlik])\n",
    "            else:\n",
    "                tavsiyeler[veri]= (benzerlik,[agirlik])\n",
    "    \n",
    "    for i in tavsiyeler:\n",
    "        benzerlik, film = tavsiyeler[i]\n",
    "        tavsiyeler[i]= sum(film)/ benzerlik\n",
    "    return tavsiyeler\n"
   ]
  },
  {
   "cell_type": "code",
   "execution_count": null,
   "metadata": {},
   "outputs": [],
   "source": [
    "TavsiyeEt(\"Berk Aykut\",5)"
   ]
  },
  {
   "cell_type": "code",
   "execution_count": null,
   "metadata": {},
   "outputs": [],
   "source": []
  }
 ],
 "metadata": {
  "kernelspec": {
   "display_name": "Python 3",
   "language": "python",
   "name": "python3"
  },
  "language_info": {
   "codemirror_mode": {
    "name": "ipython",
    "version": 3
   },
   "file_extension": ".py",
   "mimetype": "text/x-python",
   "name": "python",
   "nbconvert_exporter": "python",
   "pygments_lexer": "ipython3",
   "version": "3.6.8"
  }
 },
 "nbformat": 4,
 "nbformat_minor": 2
}
