{
 "cells": [
  {
   "cell_type": "code",
   "execution_count": 2,
   "metadata": {},
   "outputs": [],
   "source": [
    "import tensorflow as tf"
   ]
  },
  {
   "cell_type": "code",
   "execution_count": 7,
   "metadata": {},
   "outputs": [],
   "source": [
    "from keras.models import Sequential\n",
    "from keras.layers.core import Dense\n",
    "from keras.optimizers import SGD"
   ]
  },
  {
   "cell_type": "code",
   "execution_count": 8,
   "metadata": {},
   "outputs": [],
   "source": [
    "from keras.datasets import mnist"
   ]
  },
  {
   "cell_type": "code",
   "execution_count": 9,
   "metadata": {},
   "outputs": [],
   "source": [
    "(X_train, y_train), (X_test, y_test) = mnist.load_data()"
   ]
  },
  {
   "cell_type": "code",
   "execution_count": 10,
   "metadata": {},
   "outputs": [],
   "source": [
    "X_train = X_train.reshape(60000, 784)\n",
    "X_test = X_test.reshape(10000, 784)"
   ]
  },
  {
   "cell_type": "code",
   "execution_count": 11,
   "metadata": {},
   "outputs": [],
   "source": [
    "model = Sequential()\n"
   ]
  },
  {
   "cell_type": "code",
   "execution_count": 12,
   "metadata": {},
   "outputs": [
    {
     "name": "stderr",
     "output_type": "stream",
     "text": [
      "C:\\Users\\husey\\Anaconda3\\lib\\site-packages\\ipykernel_launcher.py:4: UserWarning: Update your `Dense` call to the Keras 2 API: `Dense(input_dim=784, activation=\"tanh\", units=50, kernel_initializer=\"uniform\")`\n",
      "  after removing the cwd from sys.path.\n"
     ]
    }
   ],
   "source": [
    "model.add(Dense(input_dim=X_train.shape[1],\n",
    "                output_dim = 50,\n",
    "                init =   'uniform',\n",
    "                activation = 'tanh'))"
   ]
  },
  {
   "cell_type": "code",
   "execution_count": 13,
   "metadata": {},
   "outputs": [
    {
     "name": "stderr",
     "output_type": "stream",
     "text": [
      "C:\\Users\\husey\\Anaconda3\\lib\\site-packages\\ipykernel_launcher.py:3: UserWarning: Update your `Dense` call to the Keras 2 API: `Dense(50, kernel_initializer=\"uniform\")`\n",
      "  This is separate from the ipykernel package so we can avoid doing imports until\n",
      "C:\\Users\\husey\\Anaconda3\\lib\\site-packages\\ipykernel_launcher.py:6: UserWarning: Update your `Dense` call to the Keras 2 API: `Dense(64, kernel_initializer=\"uniform\")`\n",
      "  \n"
     ]
    }
   ],
   "source": [
    "from keras.layers.core import Activation\n",
    "from keras.layers.core import Dropout\n",
    "model.add(Dense(50, init='uniform'))\n",
    "model.add(Activation('tanh'))\n",
    "model.add(Dropout(0.5))\n",
    "model.add(Dense(64, init='uniform'))\n",
    "model.add(Activation('relu'))"
   ]
  },
  {
   "cell_type": "code",
   "execution_count": 15,
   "metadata": {},
   "outputs": [
    {
     "name": "stderr",
     "output_type": "stream",
     "text": [
      "C:\\Users\\husey\\Anaconda3\\lib\\site-packages\\ipykernel_launcher.py:1: UserWarning: Update your `Dense` call to the Keras 2 API: `Dense(10, kernel_initializer=\"uniform\")`\n",
      "  \"\"\"Entry point for launching an IPython kernel.\n"
     ]
    }
   ],
   "source": [
    "model.add(Dense(10, init='uniform'))\n",
    "model.add(Activation('softmax'))"
   ]
  },
  {
   "cell_type": "code",
   "execution_count": 16,
   "metadata": {},
   "outputs": [],
   "source": [
    "from keras.utils.np_utils import to_categorical\n",
    "y_train_ohe = to_categorical(y_train)"
   ]
  },
  {
   "cell_type": "code",
   "execution_count": 17,
   "metadata": {},
   "outputs": [],
   "source": [
    "sgd = SGD(lr=0.001, decay=1e-6, momentum=0.9, nesterov=True)"
   ]
  },
  {
   "cell_type": "code",
   "execution_count": 18,
   "metadata": {},
   "outputs": [],
   "source": [
    "model.compile(loss = 'categorical_crossentropy',\n",
    "              optimizer = sgd)"
   ]
  },
  {
   "cell_type": "code",
   "execution_count": 19,
   "metadata": {},
   "outputs": [
    {
     "name": "stderr",
     "output_type": "stream",
     "text": [
      "C:\\Users\\husey\\Anaconda3\\lib\\site-packages\\ipykernel_launcher.py:6: UserWarning: The `nb_epoch` argument in `fit` has been renamed `epochs`.\n",
      "  \n"
     ]
    },
    {
     "name": "stdout",
     "output_type": "stream",
     "text": [
      "Train on 54000 samples, validate on 6000 samples\n",
      "Epoch 1/50\n",
      "54000/54000 [==============================] - 1s 14us/step - loss: 2.3024 - val_loss: 2.3011\n",
      "Epoch 2/50\n",
      "54000/54000 [==============================] - 1s 11us/step - loss: 2.3003 - val_loss: 2.2990\n",
      "Epoch 3/50\n",
      "54000/54000 [==============================] - 1s 11us/step - loss: 2.2983 - val_loss: 2.2965\n",
      "Epoch 4/50\n",
      "54000/54000 [==============================] - 1s 10us/step - loss: 2.2958 - val_loss: 2.2935\n",
      "Epoch 5/50\n",
      "54000/54000 [==============================] - 1s 9us/step - loss: 2.2925 - val_loss: 2.2894\n",
      "Epoch 6/50\n",
      "54000/54000 [==============================] - 1s 10us/step - loss: 2.2879 - val_loss: 2.2835\n",
      "Epoch 7/50\n",
      "54000/54000 [==============================] - 1s 9us/step - loss: 2.2809 - val_loss: 2.2744\n",
      "Epoch 8/50\n",
      "54000/54000 [==============================] - 1s 11us/step - loss: 2.2699 - val_loss: 2.2596\n",
      "Epoch 9/50\n",
      "54000/54000 [==============================] - 1s 9us/step - loss: 2.2511 - val_loss: 2.2341\n",
      "Epoch 10/50\n",
      "54000/54000 [==============================] - 1s 9us/step - loss: 2.2176 - val_loss: 2.1890\n",
      "Epoch 11/50\n",
      "54000/54000 [==============================] - 1s 9us/step - loss: 2.1578 - val_loss: 2.1111\n",
      "Epoch 12/50\n",
      "54000/54000 [==============================] - 1s 10us/step - loss: 2.0641 - val_loss: 1.9977\n",
      "Epoch 13/50\n",
      "54000/54000 [==============================] - 1s 11us/step - loss: 1.9458 - val_loss: 1.8687\n",
      "Epoch 14/50\n",
      "54000/54000 [==============================] - 1s 9us/step - loss: 1.8187 - val_loss: 1.7287\n",
      "Epoch 15/50\n",
      "54000/54000 [==============================] - 1s 9us/step - loss: 1.6820 - val_loss: 1.5783\n",
      "Epoch 16/50\n",
      "54000/54000 [==============================] - 1s 9us/step - loss: 1.5493 - val_loss: 1.4527\n",
      "Epoch 17/50\n",
      "54000/54000 [==============================] - 1s 10us/step - loss: 1.4432 - val_loss: 1.3522\n",
      "Epoch 18/50\n",
      "54000/54000 [==============================] - 1s 9us/step - loss: 1.3571 - val_loss: 1.2615\n",
      "Epoch 19/50\n",
      "54000/54000 [==============================] - 1s 9us/step - loss: 1.2764 - val_loss: 1.1742\n",
      "Epoch 20/50\n",
      "54000/54000 [==============================] - 1s 9us/step - loss: 1.1919 - val_loss: 1.0798\n",
      "Epoch 21/50\n",
      "54000/54000 [==============================] - 1s 11us/step - loss: 1.1023 - val_loss: 0.9766\n",
      "Epoch 22/50\n",
      "54000/54000 [==============================] - 1s 10us/step - loss: 1.0128 - val_loss: 0.8775\n",
      "Epoch 23/50\n",
      "54000/54000 [==============================] - 1s 10us/step - loss: 0.9332 - val_loss: 0.8023\n",
      "Epoch 24/50\n",
      "54000/54000 [==============================] - 1s 10us/step - loss: 0.8653 - val_loss: 0.7365\n",
      "Epoch 25/50\n",
      "54000/54000 [==============================] - 1s 10us/step - loss: 0.8104 - val_loss: 0.6849\n",
      "Epoch 26/50\n",
      "54000/54000 [==============================] - 1s 11us/step - loss: 0.7642 - val_loss: 0.6299\n",
      "Epoch 27/50\n",
      "54000/54000 [==============================] - 1s 11us/step - loss: 0.7255 - val_loss: 0.5993\n",
      "Epoch 28/50\n",
      "54000/54000 [==============================] - 1s 12us/step - loss: 0.6902 - val_loss: 0.5606\n",
      "Epoch 29/50\n",
      "54000/54000 [==============================] - 1s 10us/step - loss: 0.6636 - val_loss: 0.5274\n",
      "Epoch 30/50\n",
      "54000/54000 [==============================] - 1s 10us/step - loss: 0.6292 - val_loss: 0.4953\n",
      "Epoch 31/50\n",
      "54000/54000 [==============================] - 1s 9us/step - loss: 0.6163 - val_loss: 0.4789\n",
      "Epoch 32/50\n",
      "54000/54000 [==============================] - 1s 11us/step - loss: 0.5822 - val_loss: 0.4477\n",
      "Epoch 33/50\n",
      "54000/54000 [==============================] - 1s 11us/step - loss: 0.5544 - val_loss: 0.4168\n",
      "Epoch 34/50\n",
      "54000/54000 [==============================] - 1s 10us/step - loss: 0.5351 - val_loss: 0.3993\n",
      "Epoch 35/50\n",
      "54000/54000 [==============================] - 1s 9us/step - loss: 0.5190 - val_loss: 0.3829\n",
      "Epoch 36/50\n",
      "54000/54000 [==============================] - 1s 9us/step - loss: 0.5116 - val_loss: 0.3766\n",
      "Epoch 37/50\n",
      "54000/54000 [==============================] - 1s 11us/step - loss: 0.4895 - val_loss: 0.3691\n",
      "Epoch 38/50\n",
      "54000/54000 [==============================] - 1s 10us/step - loss: 0.4761 - val_loss: 0.3585\n",
      "Epoch 39/50\n",
      "54000/54000 [==============================] - 1s 10us/step - loss: 0.4709 - val_loss: 0.3393\n",
      "Epoch 40/50\n",
      "54000/54000 [==============================] - 1s 11us/step - loss: 0.4541 - val_loss: 0.3271\n",
      "Epoch 41/50\n",
      "54000/54000 [==============================] - 1s 10us/step - loss: 0.4418 - val_loss: 0.3184\n",
      "Epoch 42/50\n",
      "54000/54000 [==============================] - 1s 9us/step - loss: 0.4288 - val_loss: 0.3181\n",
      "Epoch 43/50\n",
      "54000/54000 [==============================] - 0s 9us/step - loss: 0.4319 - val_loss: 0.3034\n",
      "Epoch 44/50\n",
      "54000/54000 [==============================] - 1s 11us/step - loss: 0.4120 - val_loss: 0.2952\n",
      "Epoch 45/50\n",
      "54000/54000 [==============================] - 1s 11us/step - loss: 0.4192 - val_loss: 0.2981\n",
      "Epoch 46/50\n",
      "54000/54000 [==============================] - 1s 10us/step - loss: 0.4034 - val_loss: 0.2971\n",
      "Epoch 47/50\n",
      "54000/54000 [==============================] - 1s 11us/step - loss: 0.3967 - val_loss: 0.2707\n",
      "Epoch 48/50\n",
      "54000/54000 [==============================] - 1s 11us/step - loss: 0.3893 - val_loss: 0.2766\n",
      "Epoch 49/50\n",
      "54000/54000 [==============================] - 1s 11us/step - loss: 0.3801 - val_loss: 0.2679\n",
      "Epoch 50/50\n",
      "54000/54000 [==============================] - 1s 11us/step - loss: 0.3732 - val_loss: 0.2683\n"
     ]
    },
    {
     "data": {
      "text/plain": [
       "<keras.callbacks.History at 0x27579076ba8>"
      ]
     },
     "execution_count": 19,
     "metadata": {},
     "output_type": "execute_result"
    }
   ],
   "source": [
    "model.fit(X_train,\n",
    "          y_train_ohe,\n",
    "          nb_epoch = 50,\n",
    "          batch_size = 500,\n",
    "          validation_split = 0.1,\n",
    "          verbose = 1)"
   ]
  },
  {
   "cell_type": "code",
   "execution_count": 20,
   "metadata": {},
   "outputs": [
    {
     "name": "stdout",
     "output_type": "stream",
     "text": [
      "10000/10000 [==============================] - 0s 18us/step\n"
     ]
    }
   ],
   "source": [
    "y_test_predictions = model.predict_classes(X_test, verbose = 1)"
   ]
  },
  {
   "cell_type": "code",
   "execution_count": 21,
   "metadata": {},
   "outputs": [
    {
     "name": "stdout",
     "output_type": "stream",
     "text": [
      "Test Accuracy:  91.24 %\n"
     ]
    }
   ],
   "source": [
    "import numpy as np\n",
    "correct = np.sum(y_test_predictions ==  y_test)\n",
    "print ('Test Accuracy: ', correct/float(y_test.shape[0])*100.0, '%')"
   ]
  },
  {
   "cell_type": "code",
   "execution_count": null,
   "metadata": {},
   "outputs": [],
   "source": []
  },
  {
   "cell_type": "code",
   "execution_count": null,
   "metadata": {},
   "outputs": [],
   "source": []
  }
 ],
 "metadata": {
  "kernelspec": {
   "display_name": "Python 3",
   "language": "python",
   "name": "python3"
  },
  "language_info": {
   "codemirror_mode": {
    "name": "ipython",
    "version": 3
   },
   "file_extension": ".py",
   "mimetype": "text/x-python",
   "name": "python",
   "nbconvert_exporter": "python",
   "pygments_lexer": "ipython3",
   "version": "3.6.8"
  }
 },
 "nbformat": 4,
 "nbformat_minor": 2
}
